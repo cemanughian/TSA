{
 "cells": [
  {
   "cell_type": "markdown",
   "id": "decimal-example",
   "metadata": {},
   "source": [
    "# CS 611 Assignment 4\n",
    "\n",
    "(Quiz2 Spring 2019)\n",
    "\n",
    "April 27, 2021\n",
    "\n",
    "Celeste Manughian-Peter"
   ]
  },
  {
   "cell_type": "code",
   "execution_count": 20,
   "id": "immediate-sugar",
   "metadata": {},
   "outputs": [],
   "source": [
    "library(TSA)\n",
    "library(forecast)"
   ]
  },
  {
   "cell_type": "markdown",
   "id": "optical-isolation",
   "metadata": {},
   "source": [
    "### Problem 1. (25 points) \n",
    "Let \n",
    "\n",
    "$Y = e_t − θe_{t−1}$, where $|θ| < 1$. \n",
    "\n",
    "Estimate $cov(r_2,r_3)$ assuming that the sample size is large.\n",
    "\n",
    "(Estimating the covariance between sample autocorrelation values at lag 2 and 3)"
   ]
  },
  {
   "cell_type": "markdown",
   "id": "identified-hypothesis",
   "metadata": {},
   "source": [
    " <img src=\"files/image2.jpeg\">"
   ]
  },
  {
   "cell_type": "markdown",
   "id": "voluntary-tongue",
   "metadata": {},
   "source": [
    "### Problem 2. (10 points) \n",
    "\n",
    "Set the seed in R to 1224 and simulate 200 values from an ARIMA(1,3,1) process with φ = 0.6 and θ = − 0.7 , σ e 2 = 10 and μ = 100 ."
   ]
  },
  {
   "cell_type": "code",
   "execution_count": 3,
   "id": "prepared-london",
   "metadata": {},
   "outputs": [],
   "source": [
    "?arima.sim"
   ]
  },
  {
   "cell_type": "code",
   "execution_count": 93,
   "id": "average-commerce",
   "metadata": {},
   "outputs": [
    {
     "data": {
      "image/png": "[encoded data removed]",
      "text/plain": [
       "plot without title"
      ]
     },
     "metadata": {
      "image/png": {
       "height": 420,
       "width": 420
      },
      "text/plain": {
       "height": 420,
       "width": 420
      }
     },
     "output_type": "display_data"
    }
   ],
   "source": [
    "set.seed(1224)\n",
    "ts = arima.sim(n=200, list(order=c(1,3,1), ar=c(0.6), ma=0.7), sd=sqrt(10))+100\n",
    "plot(ts)"
   ]
  },
  {
   "cell_type": "markdown",
   "id": "legislative-simpson",
   "metadata": {},
   "source": [
    "#### a) Find the appropriate ARIMA model that fits the data."
   ]
  },
  {
   "cell_type": "code",
   "execution_count": 79,
   "id": "confident-inspection",
   "metadata": {},
   "outputs": [
    {
     "data": {
      "text/plain": [
       "Series: ts \n",
       "ARIMA(3,2,1) \n",
       "\n",
       "Coefficients:\n",
       "         ar1      ar2      ar3     ma1\n",
       "      1.4235  -0.3300  -0.1113  0.7669\n",
       "s.e.  0.1020   0.1857   0.0979  0.0699\n",
       "\n",
       "sigma^2 estimated as 9.111:  log likelihood=-508.7\n",
       "AIC=1027.41   AICc=1027.72   BIC=1043.93"
      ]
     },
     "metadata": {},
     "output_type": "display_data"
    }
   ],
   "source": [
    "auto.arima(ts)"
   ]
  },
  {
   "cell_type": "markdown",
   "id": "knowing-wilson",
   "metadata": {},
   "source": [
    "Looks like ARIMA(2,2,0) fits our simulated data. "
   ]
  },
  {
   "cell_type": "markdown",
   "id": "intellectual-south",
   "metadata": {},
   "source": [
    "#### b) Use three different methods to estimate the parameters of the model identified in part a) and compare the results against the true values."
   ]
  },
  {
   "cell_type": "code",
   "execution_count": 64,
   "id": "radical-strain",
   "metadata": {},
   "outputs": [],
   "source": [
    "library(foreign)"
   ]
  },
  {
   "cell_type": "code",
   "execution_count": 80,
   "id": "immune-stylus",
   "metadata": {},
   "outputs": [
    {
     "data": {
      "text/plain": [
       "\n",
       "Call:\n",
       "arima(x = ts, order = c(1, 3, 1), method = \"ML\")\n",
       "\n",
       "Coefficients:\n",
       "         ar1     ma1\n",
       "      0.5208  0.7116\n",
       "s.e.  0.0681  0.0602\n",
       "\n",
       "sigma^2 estimated as 9.148:  log likelihood = -505.96,  aic = 1015.93"
      ]
     },
     "metadata": {},
     "output_type": "display_data"
    }
   ],
   "source": [
    "arima(ts, order=c(1,3,1), method=\"ML\")  "
   ]
  },
  {
   "cell_type": "code",
   "execution_count": 81,
   "id": "sensitive-zoning",
   "metadata": {},
   "outputs": [
    {
     "data": {
      "text/plain": [
       "\n",
       "Call:\n",
       "arima(x = ts, order = c(1, 3, 1), method = \"CSS\")\n",
       "\n",
       "Coefficients:\n",
       "         ar1     ma1\n",
       "      0.5430  0.6824\n",
       "s.e.  0.0657  0.0606\n",
       "\n",
       "sigma^2 estimated as 9.259:  part log likelihood = -506.35"
      ]
     },
     "metadata": {},
     "output_type": "display_data"
    }
   ],
   "source": [
    "arima(ts, order=c(1,3,1), method=\"CSS\")  "
   ]
  },
  {
   "cell_type": "code",
   "execution_count": 82,
   "id": "light-computer",
   "metadata": {},
   "outputs": [
    {
     "data": {
      "text/plain": [
       "\n",
       "Call:\n",
       "arima(x = ts, order = c(1, 3, 1), method = \"CSS-ML\")\n",
       "\n",
       "Coefficients:\n",
       "         ar1     ma1\n",
       "      0.5208  0.7116\n",
       "s.e.  0.0681  0.0602\n",
       "\n",
       "sigma^2 estimated as 9.148:  log likelihood = -505.96,  aic = 1015.93"
      ]
     },
     "metadata": {},
     "output_type": "display_data"
    }
   ],
   "source": [
    "arima(ts, order=c(1,3,1), method=\"CSS-ML\")  "
   ]
  },
  {
   "cell_type": "markdown",
   "id": "variable-boards",
   "metadata": {},
   "source": [
    "As we can see the three paramater estimation methods produce very similar values, at least within the standard error for CSS vs ML and CSS-ML. This is probably partly due to the large sample size weve used. \n",
    "\n",
    "The true values were phi=.6 and theta=0.7. The estimates were within the SE for phi for CSS but not for ML or CSS-ML."
   ]
  },
  {
   "cell_type": "markdown",
   "id": "fewer-sapphire",
   "metadata": {},
   "source": [
    "#### Problem 3. (40 points) \n",
    "The following questions explore properties of parameter estimation methods,"
   ]
  },
  {
   "cell_type": "markdown",
   "id": "uniform-phase",
   "metadata": {},
   "source": [
    "a) Why is the Method of Moments (MOM) not a good tool for parameter estimation for MA\n",
    "models? Give an example of a MA(2) process that might not be estimable using MOM.\n",
    "\n",
    "mOm has issues with \n",
    "* sampling variations and higher order processes that leads it to not produce real solutions for coefs.\n",
    "* Also always have to solve nonlinear systems of eqns \n",
    "\n",
    "\n",
    "\n",
    "b) Show that the MOM and CSS produce very similar results for AR(1) and AR(2) models."
   ]
  },
  {
   "cell_type": "markdown",
   "id": "confirmed-establishment",
   "metadata": {},
   "source": [
    " <img src=\"files/image1.jpeg\">"
   ]
  },
  {
   "cell_type": "markdown",
   "id": "engaging-headset",
   "metadata": {},
   "source": [
    "c)Find the conditional joint pdf.\n",
    "\n",
    "d) Write the unconditional joint pdf  needed for ML and unconditional SS\n",
    "estimation."
   ]
  },
  {
   "cell_type": "markdown",
   "id": "cutting-cliff",
   "metadata": {},
   "source": [
    " <img src=\"files/image0.jpeg\">"
   ]
  },
  {
   "cell_type": "markdown",
   "id": "olympic-short",
   "metadata": {},
   "source": [
    "### Problem 4. (25 points) \n",
    "We are interested in analyzing the daily closing prices of Apple (AAPL) over the last 6 months. Download the data from Yahoo Finance using the getSymbol() command from the quantmod package."
   ]
  },
  {
   "cell_type": "code",
   "execution_count": 23,
   "id": "younger-heather",
   "metadata": {},
   "outputs": [
    {
     "data": {
      "text/html": [
       "'AAPL'"
      ],
      "text/latex": [
       "'AAPL'"
      ],
      "text/markdown": [
       "'AAPL'"
      ],
      "text/plain": [
       "[1] \"AAPL\""
      ]
     },
     "metadata": {},
     "output_type": "display_data"
    }
   ],
   "source": [
    "library(quantmod) # or tidyquant\n",
    "getSymbols(c(\"AAPL\"),\n",
    "           from='2020-10-05', \n",
    "           to='2021-04-05',\n",
    "          warnings=FALSE, auto.assign=TRUE)"
   ]
  },
  {
   "cell_type": "markdown",
   "id": "ecological-practitioner",
   "metadata": {},
   "source": [
    "#### a) Plot the data and comment."
   ]
  },
  {
   "cell_type": "code",
   "execution_count": 27,
   "id": "comfortable-local",
   "metadata": {},
   "outputs": [
    {
     "data": {
      "image/png": "[encoded data removed]",
      "text/plain": [
       "plot without title"
      ]
     },
     "metadata": {
      "image/png": {
       "height": 420,
       "width": 420
      },
      "text/plain": {
       "height": 420,
       "width": 420
      }
     },
     "output_type": "display_data"
    }
   ],
   "source": [
    "plot(AAPL$AAPL.Close)"
   ]
  },
  {
   "cell_type": "markdown",
   "id": "annual-there",
   "metadata": {},
   "source": [
    "Comment: The plot looks very non stationary and like it would require many differences to become stationary due to the sharp increase and high volatility over time. "
   ]
  },
  {
   "cell_type": "markdown",
   "id": "dental-compatibility",
   "metadata": {},
   "source": [
    "#### b) Perform a test for stationarity."
   ]
  },
  {
   "cell_type": "code",
   "execution_count": 52,
   "id": "spectacular-commodity",
   "metadata": {},
   "outputs": [],
   "source": [
    "# install.packages('aTSA')\n",
    "library('aTSA')"
   ]
  },
  {
   "cell_type": "code",
   "execution_count": 56,
   "id": "wrapped-drilling",
   "metadata": {},
   "outputs": [
    {
     "name": "stdout",
     "output_type": "stream",
     "text": [
      "Augmented Dickey-Fuller Test \n",
      "alternative: stationary \n",
      " \n",
      "Type 1: no drift no trend \n",
      "     lag    ADF p.value\n",
      "[1,]   0 25.741   0.990\n",
      "[2,]   1 -3.088   0.010\n",
      "[3,]   2  0.463   0.776\n",
      "[4,]   3  0.721   0.850\n",
      "[5,]   4  0.955   0.908\n",
      "Type 2: with drift no trend \n",
      "     lag     ADF p.value\n",
      "[1,]   0  8.8663   0.990\n",
      "[2,]   1 -3.8471   0.010\n",
      "[3,]   2 -0.0626   0.950\n",
      "[4,]   3  0.1121   0.964\n",
      "[5,]   4  0.3236   0.978\n",
      "Type 3: with drift and trend \n",
      "     lag    ADF p.value\n",
      "[1,]   0  -2.63  0.3123\n",
      "[2,]   1 -14.60  0.0100\n",
      "[3,]   2  -3.20  0.0896\n",
      "[4,]   3  -2.47  0.3763\n",
      "[5,]   4  -2.01  0.5707\n",
      "---- \n",
      "Note: in fact, p.value = 0.01 means p.value <= 0.01 \n"
     ]
    }
   ],
   "source": [
    "# adf.test(ts)\n",
    "stationary.test(ts)"
   ]
  },
  {
   "cell_type": "markdown",
   "id": "hungry-addiction",
   "metadata": {},
   "source": [
    "If we reject the DF test it means its stationarity. DF test is testing for various violations of stationairty. stationarity with no drift. \n",
    "The test will null hypotheses (low p-value associated with the test statistic points to a rejection) in favour of the alternative. Alternative hypothesis is stationarity.\n",
    "So you have evidence against the null of unit root in favour of the alternative of stationarity. I do not see a problem.\n",
    "\n",
    "low p value = stationarity. We see at lag 1 the p value is .01, which points to stationarity for all three types tested. "
   ]
  },
  {
   "cell_type": "markdown",
   "id": "sporting-cheese",
   "metadata": {},
   "source": [
    "#### c) Find the best fitting ARIMA model for these data."
   ]
  },
  {
   "cell_type": "code",
   "execution_count": 38,
   "id": "focal-principal",
   "metadata": {},
   "outputs": [
    {
     "name": "stdout",
     "output_type": "stream",
     "text": [
      "Series: AAPL$AAPL.Close \n",
      "ARIMA(0,1,0) \n",
      "\n",
      "sigma^2 estimated as 6.669:  log likelihood=-291.23\n",
      "AIC=584.45   AICc=584.49   BIC=587.26\n"
     ]
    }
   ],
   "source": [
    "model = auto.arima(AAPL$AAPL.Close)\n",
    "print(model)"
   ]
  },
  {
   "cell_type": "markdown",
   "id": "coated-delay",
   "metadata": {},
   "source": [
    "#### d) Estimate the parameters of the best ARIMA model using ML and parametric bootstrapping."
   ]
  },
  {
   "cell_type": "markdown",
   "id": "legendary-gasoline",
   "metadata": {},
   "source": [
    "Normally parameter bootstrapping will let us estimate the standard errors of our time series coefficients. We will estimate 200 realizations of the process that auto.arima said was our best fit, ARIMA(0,1,0). Here since the order is 0 for both AR and MA, we dont have any parameters to estimate. We can just put the code for what we would do below:"
   ]
  },
  {
   "cell_type": "markdown",
   "id": "breathing-judges",
   "metadata": {},
   "source": [
    "####  Exercise 7.11"
   ]
  },
  {
   "cell_type": "code",
   "execution_count": null,
   "id": "controlled-basket",
   "metadata": {},
   "outputs": [],
   "source": [
    "library(ggplot2)"
   ]
  },
  {
   "cell_type": "code",
   "execution_count": 99,
   "id": "realistic-person",
   "metadata": {},
   "outputs": [
    {
     "data": {
      "text/html": [
       "<strong>ma1:</strong> 0.508114565646312"
      ],
      "text/latex": [
       "\\textbf{ma1:} 0.508114565646312"
      ],
      "text/markdown": [
       "**ma1:** 0.508114565646312"
      ],
      "text/plain": [
       "      ma1 \n",
       "0.5081146 "
      ]
     },
     "metadata": {},
     "output_type": "display_data"
    }
   ],
   "source": [
    "set.seed(1352); series=arima.sim(n=48,list(ma=0.6))\n",
    "arima(series,order=c(0,0,1),method='ML')$coef[1]"
   ]
  },
  {
   "cell_type": "code",
   "execution_count": 105,
   "id": "endangered-institution",
   "metadata": {},
   "outputs": [],
   "source": [
    "set.seed(1352); thetahat=rep(NA,1000)\n",
    "for (k in 1:1000) {\n",
    "    series=arima.sim(n=48,list(ma=0.6));\n",
    "    thetahat[k]=-arima(series,order=c(0,0,1),method='ML')$coef[1]\n",
    "}"
   ]
  },
  {
   "cell_type": "code",
   "execution_count": 119,
   "id": "major-coast",
   "metadata": {},
   "outputs": [
    {
     "name": "stdout",
     "output_type": "stream",
     "text": [
      "[1] \"Parameter estimate mean:\"\n"
     ]
    },
    {
     "data": {
      "text/html": [
       "-0.60420011375099"
      ],
      "text/latex": [
       "-0.60420011375099"
      ],
      "text/markdown": [
       "-0.60420011375099"
      ],
      "text/plain": [
       "[1] -0.6042001"
      ]
     },
     "metadata": {},
     "output_type": "display_data"
    },
    {
     "name": "stdout",
     "output_type": "stream",
     "text": [
      "[1] \"Parameter estimate SD:\"\n"
     ]
    },
    {
     "data": {
      "text/html": [
       "0.144248004153614"
      ],
      "text/latex": [
       "0.144248004153614"
      ],
      "text/markdown": [
       "0.144248004153614"
      ],
      "text/plain": [
       "[1] 0.144248"
      ]
     },
     "metadata": {},
     "output_type": "display_data"
    },
    {
     "name": "stdout",
     "output_type": "stream",
     "text": [
      "[1] \"Parameter estimate variance:\"\n"
     ]
    },
    {
     "data": {
      "text/html": [
       "0.020807486702301"
      ],
      "text/latex": [
       "0.020807486702301"
      ],
      "text/markdown": [
       "0.020807486702301"
      ],
      "text/plain": [
       "[1] 0.02080749"
      ]
     },
     "metadata": {},
     "output_type": "display_data"
    },
    {
     "name": "stdout",
     "output_type": "stream",
     "text": [
      "[1] \"Parameter estimate median:\"\n"
     ]
    },
    {
     "data": {
      "text/html": [
       "-0.600304695580986"
      ],
      "text/latex": [
       "-0.600304695580986"
      ],
      "text/markdown": [
       "-0.600304695580986"
      ],
      "text/plain": [
       "[1] -0.6003047"
      ]
     },
     "metadata": {},
     "output_type": "display_data"
    },
    {
     "name": "stderr",
     "output_type": "stream",
     "text": [
      "`stat_bin()` using `bins = 30`. Pick better value with `binwidth`.\n",
      "\n"
     ]
    },
    {
     "data": {
      "image/png": "[encoded data removed]",
      "text/plain": [
       "plot without title"
      ]
     },
     "metadata": {
      "image/png": {
       "height": 420,
       "width": 420
      },
      "text/plain": {
       "height": 420,
       "width": 420
      }
     },
     "output_type": "display_data"
    }
   ],
   "source": [
    "thetahatdf = data.frame(thetahat=thetahat)\n",
    "\n",
    "print(\"Parameter estimate mean:\")\n",
    "mean(thetahat) \n",
    "print(\"Parameter estimate SD:\")\n",
    "sd(thetahat)\n",
    "print(\"Parameter estimate variance:\")\n",
    "sd(thetahat)^2\n",
    "print(\"Parameter estimate median:\")\n",
    "median(thetahat)\n",
    "\n",
    "ggplot(thetahatdf, aes(x=thetahat)) + geom_histogram() + ggtitle(\"Large sample Parameter estimate\")"
   ]
  },
  {
   "cell_type": "markdown",
   "id": "delayed-prescription",
   "metadata": {},
   "source": [
    "The mean of the sampling distribution of the ML parameter estimates of theta is -.604 which is almost unbiased. \n",
    "\n",
    "The sample variance is .02.\n",
    "\n",
    "The large sample result in eqn 7.4.11 shows \n",
    "\n",
    "1-theoretical theta^2 / number samples=48\n",
    "\n"
   ]
  },
  {
   "cell_type": "code",
   "execution_count": 122,
   "id": "behavioral-algorithm",
   "metadata": {},
   "outputs": [
    {
     "data": {
      "text/html": [
       "0.0133333333333333"
      ],
      "text/latex": [
       "0.0133333333333333"
      ],
      "text/markdown": [
       "0.0133333333333333"
      ],
      "text/plain": [
       "[1] 0.01333333"
      ]
     },
     "metadata": {},
     "output_type": "display_data"
    }
   ],
   "source": [
    "(1-((-.6)^2))/48"
   ]
  },
  {
   "cell_type": "code",
   "execution_count": 75,
   "id": "traditional-vehicle",
   "metadata": {},
   "outputs": [],
   "source": [
    "# library(ggplot2)\n",
    "# iters = 500\n",
    "# param = rep(NA, iters)\n",
    "# param2 = rep(NA, iters)\n",
    "\n",
    "# for (i in 1:iters) {\n",
    "#     ts = arima.sim(n=100,list(ar=0.1, ma=0.1));\n",
    "#     param[i] = -arima(ts,\n",
    "#                       order=c(0,1,0),\n",
    "#                       method='ML')$coef[1]\n",
    "#     param2[i] = -arima(ts,\n",
    "#                       order=c(0,1,0),\n",
    "#                       method='ML')$coef[2]\n",
    "# }\n",
    "\n",
    "# paramdf = data.frame(param=param)\n",
    "\n",
    "# mean(param) \n",
    "# sd(param)\n",
    "# median(param)\n",
    "\n",
    "# ggplot(paramdf, aes(x=param)) + geom_histogram()"
   ]
  },
  {
   "cell_type": "markdown",
   "id": "sexual-handling",
   "metadata": {},
   "source": [
    "#### e) Use the Ljung-Box and Box-Pierce tests for independence of the residuals and comment."
   ]
  },
  {
   "cell_type": "markdown",
   "id": "vulnerable-center",
   "metadata": {},
   "source": [
    "LB and BP are tests for lack of corr in residuals"
   ]
  },
  {
   "cell_type": "markdown",
   "id": "greek-moment",
   "metadata": {},
   "source": [
    "First, we need to grab the residuals from our model."
   ]
  },
  {
   "cell_type": "code",
   "execution_count": 47,
   "id": "suited-oakland",
   "metadata": {},
   "outputs": [],
   "source": [
    "model = auto.arima(ts)"
   ]
  },
  {
   "cell_type": "code",
   "execution_count": 48,
   "id": "hungry-premiere",
   "metadata": {},
   "outputs": [],
   "source": [
    "# names(fit) # THings we can extract , coefs, variance for boostrap\n",
    "resids = model$residuals"
   ]
  },
  {
   "cell_type": "code",
   "execution_count": 49,
   "id": "lovely-design",
   "metadata": {},
   "outputs": [],
   "source": [
    "?Box.test"
   ]
  },
  {
   "cell_type": "code",
   "execution_count": 44,
   "id": "lesbian-keeping",
   "metadata": {},
   "outputs": [
    {
     "data": {
      "text/plain": [
       "\n",
       "\tBox-Pierce test\n",
       "\n",
       "data:  resids\n",
       "X-squared = 0.02794, df = 1, p-value = 0.8672\n"
      ]
     },
     "metadata": {},
     "output_type": "display_data"
    }
   ],
   "source": [
    "Box.test(resids) # See if they behave as they should \n",
    "# no ac within resids, which is evidence of a good fit"
   ]
  },
  {
   "cell_type": "code",
   "execution_count": 45,
   "id": "given-leather",
   "metadata": {},
   "outputs": [
    {
     "data": {
      "text/plain": [
       "\n",
       "\tBox-Ljung test\n",
       "\n",
       "data:  resids\n",
       "X-squared = 0.028355, df = 1, p-value = 0.8663\n"
      ]
     },
     "metadata": {},
     "output_type": "display_data"
    }
   ],
   "source": [
    "Box.test(resids, type=\"Ljung-Box\")"
   ]
  },
  {
   "cell_type": "markdown",
   "id": "fatal-dream",
   "metadata": {},
   "source": [
    "If the p value is greater than 0.05 then the residuals are independent which we want for the model to be correct. Here we see the p value is .86, so the model is a good fit. "
   ]
  },
  {
   "cell_type": "markdown",
   "id": "talented-harvard",
   "metadata": {},
   "source": [
    "They both agree that the model fits the data well "
   ]
  },
  {
   "cell_type": "markdown",
   "id": "administrative-congo",
   "metadata": {},
   "source": [
    "### References"
   ]
  },
  {
   "cell_type": "markdown",
   "id": "precious-boutique",
   "metadata": {},
   "source": [
    "https://nwfsc-timeseries.github.io/atsa-labs/sec-boxjenkins-aug-dickey-fuller.html"
   ]
  }
 ],
 "metadata": {
  "kernelspec": {
   "display_name": "R",
   "language": "R",
   "name": "ir"
  },
  "language_info": {
   "codemirror_mode": "r",
   "file_extension": ".r",
   "mimetype": "text/x-r-source",
   "name": "R",
   "pygments_lexer": "r",
   "version": "3.6.1"
  }
 },
 "nbformat": 4,
 "nbformat_minor": 5
}
